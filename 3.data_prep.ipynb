{
 "cells": [
  {
   "cell_type": "markdown",
   "metadata": {},
   "source": [
    "## Data Preparation"
   ]
  },
  {
   "cell_type": "code",
   "execution_count": 2,
   "metadata": {},
   "outputs": [],
   "source": [
    "import numpy as np\n",
    "import pandas as pd\n",
    "from sklearn.linear_model import LinearRegression\n",
    "import matplotlib\n",
    "import plotly.express as px\n",
    "import seaborn as sns\n",
    "import missingno\n",
    "#Note, if using jupyter lab, install the plotly extension for jupyter lab\n",
    "#conda install -c conda-forge jupyterlab-plotly-extension\n",
    "#original file:  \"https://www.amstat.org/publications/jse/v19n3/decock/AmesHousing.xls\""
   ]
  },
  {
   "cell_type": "code",
   "execution_count": 3,
   "metadata": {},
   "outputs": [],
   "source": [
    "#Pandas set max columns so you can see everything!\n",
    "pd.set_option('display.max_columns', None)\n",
    "#OR\n",
    "#pd.set_option('max_columns', 100)"
   ]
  },
  {
   "cell_type": "code",
   "execution_count": 4,
   "metadata": {},
   "outputs": [],
   "source": [
    "#df_train = pd.read_csv(\"data/train.csv\")\n",
    "#Switch to using the original excel file with all rows\n",
    "#df_train = pd.read_excel(\"data/AmesHousing.xls\")\n",
    "df_train = pd.read_csv(\"phase2export.csv\")"
   ]
  },
  {
   "cell_type": "markdown",
   "metadata": {},
   "source": [
    "## Missing Data\n",
    "- Need to remove some columns\n",
    "- for example, poolqc was missing 95% of values along with Misc column?\n",
    "- For numeric columns should we replace missing values with mean or median?"
   ]
  },
  {
   "cell_type": "code",
   "execution_count": 5,
   "metadata": {},
   "outputs": [],
   "source": [
    "#fillna with mean\n",
    "df_train = df_train.fillna(df_train.mean())"
   ]
  },
  {
   "cell_type": "markdown",
   "metadata": {},
   "source": [
    "## Categorical Data\n",
    "- get_dummies but is this is this the best way?  Should we explore one hot encoder?"
   ]
  },
  {
   "cell_type": "code",
   "execution_count": 6,
   "metadata": {},
   "outputs": [],
   "source": [
    "#deal with categorical data\n",
    "df_train = pd.get_dummies(df_train)"
   ]
  },
  {
   "cell_type": "markdown",
   "metadata": {},
   "source": [
    "## Regularization of Skewed Data"
   ]
  },
  {
   "cell_type": "code",
   "execution_count": 11,
   "metadata": {},
   "outputs": [
    {
     "data": {
      "text/plain": [
       "array([[<matplotlib.axes._subplots.AxesSubplot object at 0x000002C1DC129250>,\n",
       "        <matplotlib.axes._subplots.AxesSubplot object at 0x000002C1DC400700>]],\n",
       "      dtype=object)"
      ]
     },
     "execution_count": 11,
     "metadata": {},
     "output_type": "execute_result"
    },
    {
     "data": {
      "image/png": "[encoded data removed]",
      "text/plain": [
       "<Figure size 864x432 with 2 Axes>"
      ]
     },
     "metadata": {
      "needs_background": "light"
     },
     "output_type": "display_data"
    }
   ],
   "source": [
    "#Handy to check histograms side by side (log vs no log)\n",
    "#https://www.kaggle.com/apapiu/regularized-linear-models\n",
    "matplotlib.rcParams['figure.figsize'] = (12.0, 6.0)\n",
    "prices = pd.DataFrame({\"price\":df_train[\"SalePrice\"], \"log(price + 1)\":np.log1p(df_train[\"SalePrice\"])})\n",
    "prices.hist()"
   ]
  },
  {
   "cell_type": "code",
   "execution_count": 7,
   "metadata": {},
   "outputs": [
    {
     "name": "stdout",
     "output_type": "stream",
     "text": [
      "      SalePrice_log  SalePrice\n",
      "0         12.278398     215000\n",
      "1         11.561725     105000\n",
      "2         12.055256     172000\n",
      "3         12.404928     244000\n",
      "4         12.154258     189900\n",
      "...             ...        ...\n",
      "2925      11.867104     142500\n",
      "2926      11.782960     131000\n",
      "2927      11.790565     132000\n",
      "2928      12.043560     170000\n",
      "2929      12.144203     188000\n",
      "\n",
      "[2930 rows x 2 columns]\n"
     ]
    }
   ],
   "source": [
    "#Regularize saleprice take the log\n",
    "#https://www.khanacademy.org/math/algebra2/x2ec2f6f830c9fb89:logs/x2ec2f6f830c9fb89:log-intro/a/intro-to-logarithms\n",
    "#log1p = ln(saleprice + 1)\n",
    "df_train[\"SalePrice_log\"] = np.log1p(df_train[\"SalePrice\"])\n",
    "#Note syntax to print more than 1 column\n",
    "print(df_train[['SalePrice_log', 'SalePrice']])"
   ]
  },
  {
   "cell_type": "code",
   "execution_count": 8,
   "metadata": {},
   "outputs": [],
   "source": [
    "from scipy.stats import skew\n",
    "from scipy.stats.stats import pearsonr\n",
    "\n",
    "numeric_feats = df_train.dtypes[df_train.dtypes != \"object\"].index\n",
    "\n",
    "skewed_feats = df_train[numeric_feats].apply(lambda x: skew(x.dropna())) #compute skewness\n",
    "skewed_feats = skewed_feats[skewed_feats > 0.75]\n",
    "skewed_feats = skewed_feats.index\n",
    "\n",
    "df_train[skewed_feats] = np.log1p(df_train[skewed_feats])"
   ]
  },
  {
   "cell_type": "markdown",
   "metadata": {},
   "source": [
    "## Outliers\n",
    "- Need a statistical way to remove outliers\n",
    "- Author of data reccomends removing everything above 4000 sq feet but need to prove with stats"
   ]
  },
  {
   "cell_type": "markdown",
   "metadata": {},
   "source": [
    "## Deal with Categorical Data"
   ]
  },
  {
   "cell_type": "code",
   "execution_count": 10,
   "metadata": {},
   "outputs": [],
   "source": [
    "#call get_dummies to convert categorical variables to numeric\n",
    "df_train = pd.get_dummies(df_train)\n",
    "#df_train = df_train.fillna(df_train.mean())"
   ]
  },
  {
   "cell_type": "code",
   "execution_count": null,
   "metadata": {},
   "outputs": [],
   "source": []
  }
 ],
 "metadata": {
  "kernelspec": {
   "display_name": "Python 3",
   "language": "python",
   "name": "python3"
  },
  "language_info": {
   "codemirror_mode": {
    "name": "ipython",
    "version": 3
   },
   "file_extension": ".py",
   "mimetype": "text/x-python",
   "name": "python",
   "nbconvert_exporter": "python",
   "pygments_lexer": "ipython3",
   "version": "3.8.3"
  }
 },
 "nbformat": 4,
 "nbformat_minor": 4
}
